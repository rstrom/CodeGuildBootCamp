{
 "cells": [
  {
   "cell_type": "markdown",
   "metadata": {},
   "source": [
    "## Evening 3.0"
   ]
  },
  {
   "cell_type": "markdown",
   "metadata": {},
   "source": [
    "## Static Webpages\n",
    "* conceptual overview\n",
    "* resources:\n",
    "    * [css-tricks.com](css-tricks.com)\n",
    "    * [Mozilla Developer Network (MDN)](https://developer.mozilla.org/en-US/)\n",
    "    * Text: *HTML & CSS: Design and Build Websites*"
   ]
  },
  {
   "cell_type": "markdown",
   "metadata": {},
   "source": [
    "## HTML\n",
    "* XML syntax\n",
    "* head\n",
    "* body\n",
    "* important tags:\n",
    "    * p\n",
    "    * a\n",
    "    * img\n",
    "    * input\n",
    "    * li\n",
    "    * h1-15"
   ]
  },
  {
   "cell_type": "markdown",
   "metadata": {},
   "source": [
    "## CSS\n",
    "* divs\n",
    "* classes\n",
    "* ids"
   ]
  },
  {
   "cell_type": "markdown",
   "metadata": {},
   "source": [
    "## Exercise: Resume / Bio\n",
    "Create a webpage that details your bio. Include images and lists.\n",
    "\n",
    "** Step 2:** Use CSS to change font family, color and styles in your bio.\n",
    "\n",
    "** Step 3:** Add a navigation menu to navigate between paragraphs in your bio."
   ]
  }
 ],
 "metadata": {
  "kernelspec": {
   "display_name": "Python 3",
   "language": "python",
   "name": "python3"
  },
  "language_info": {
   "codemirror_mode": {
    "name": "ipython",
    "version": 3
   },
   "file_extension": ".py",
   "mimetype": "text/x-python",
   "name": "python",
   "nbconvert_exporter": "python",
   "pygments_lexer": "ipython3",
   "version": "3.5.1"
  }
 },
 "nbformat": 4,
 "nbformat_minor": 0
}
