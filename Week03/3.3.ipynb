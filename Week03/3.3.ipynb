{
 "cells": [
  {
   "cell_type": "markdown",
   "metadata": {},
   "source": [
    "## Evening 3.3"
   ]
  },
  {
   "cell_type": "markdown",
   "metadata": {},
   "source": [
    "## Browser Environments & Responsive Layouts\n",
    "* different browser environments\n",
    "    * browser prefixes\n",
    "    * check compatibility at [caniuse.com](http://caniuse.com/)\n",
    "    * live test at [browserstack.com](https://www.browserstack.com)\n",
    "* max-, min-width\n",
    "* media queries\n",
    "* retina displays"
   ]
  },
  {
   "cell_type": "markdown",
   "metadata": {},
   "source": [
    "## Exercise: Responsive Layout\n",
    "The objective is to create a simple two column layout with a nav column and content column that renders as a single column on a smaller viewport. It should look basically like this:\n",
    "<img src=\"responsive.png\" />"
   ]
  },
  {
   "cell_type": "markdown",
   "metadata": {},
   "source": [
    "## Game Time: CSS Diner\n",
    "http://flukeout.github.io/"
   ]
  },
  {
   "cell_type": "markdown",
   "metadata": {},
   "source": [
    "## Prep for tomorrow:\n",
    "We will be setting up your personal / resume websites on Github Pages tomorrow. You can continue working on that as you like."
   ]
  }
 ],
 "metadata": {
  "kernelspec": {
   "display_name": "Python 3",
   "language": "python",
   "name": "python3"
  },
  "language_info": {
   "codemirror_mode": {
    "name": "ipython",
    "version": 3
   },
   "file_extension": ".py",
   "mimetype": "text/x-python",
   "name": "python",
   "nbconvert_exporter": "python",
   "pygments_lexer": "ipython3",
   "version": "3.5.1"
  }
 },
 "nbformat": 4,
 "nbformat_minor": 0
}
