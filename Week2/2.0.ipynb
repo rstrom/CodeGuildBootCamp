{
 "cells": [
  {
   "cell_type": "markdown",
   "metadata": {},
   "source": [
    "## Evening 2.0"
   ]
  },
  {
   "cell_type": "markdown",
   "metadata": {},
   "source": [
    "## Review and something new\n",
    "* scope\n",
    "* loops\n",
    "* list comprehensions"
   ]
  },
  {
   "cell_type": "code",
   "execution_count": 3,
   "metadata": {
    "collapsed": false
   },
   "outputs": [
    {
     "data": {
      "text/plain": [
       "[1,\n",
       " 3,\n",
       " 5,\n",
       " 7,\n",
       " 9,\n",
       " 11,\n",
       " 13,\n",
       " 15,\n",
       " 17,\n",
       " 19,\n",
       " 21,\n",
       " 23,\n",
       " 25,\n",
       " 27,\n",
       " 29,\n",
       " 31,\n",
       " 33,\n",
       " 35,\n",
       " 37,\n",
       " 39,\n",
       " 41,\n",
       " 43,\n",
       " 45,\n",
       " 47,\n",
       " 49,\n",
       " 51,\n",
       " 53,\n",
       " 55,\n",
       " 57,\n",
       " 59,\n",
       " 61,\n",
       " 63,\n",
       " 65,\n",
       " 67,\n",
       " 69,\n",
       " 71,\n",
       " 73,\n",
       " 75,\n",
       " 77,\n",
       " 79,\n",
       " 81,\n",
       " 83,\n",
       " 85,\n",
       " 87,\n",
       " 89,\n",
       " 91,\n",
       " 93,\n",
       " 95,\n",
       " 97,\n",
       " 99]"
      ]
     },
     "execution_count": 3,
     "metadata": {},
     "output_type": "execute_result"
    }
   ],
   "source": [
    "odd_numbers = []\n",
    "for n in range(1, 101):\n",
    "    if n % 2 != 0:\n",
    "        odd_numbers.append(n)\n",
    "\n",
    "odd_numbers"
   ]
  },
  {
   "cell_type": "code",
   "execution_count": 6,
   "metadata": {
    "collapsed": false
   },
   "outputs": [
    {
     "data": {
      "text/plain": [
       "[1,\n",
       " 3,\n",
       " 5,\n",
       " 7,\n",
       " 9,\n",
       " 11,\n",
       " 13,\n",
       " 15,\n",
       " 17,\n",
       " 19,\n",
       " 21,\n",
       " 23,\n",
       " 25,\n",
       " 27,\n",
       " 29,\n",
       " 31,\n",
       " 33,\n",
       " 35,\n",
       " 37,\n",
       " 39,\n",
       " 41,\n",
       " 43,\n",
       " 45,\n",
       " 47,\n",
       " 49,\n",
       " 51,\n",
       " 53,\n",
       " 55,\n",
       " 57,\n",
       " 59,\n",
       " 61,\n",
       " 63,\n",
       " 65,\n",
       " 67,\n",
       " 69,\n",
       " 71,\n",
       " 73,\n",
       " 75,\n",
       " 77,\n",
       " 79,\n",
       " 81,\n",
       " 83,\n",
       " 85,\n",
       " 87,\n",
       " 89,\n",
       " 91,\n",
       " 93,\n",
       " 95,\n",
       " 97,\n",
       " 99]"
      ]
     },
     "execution_count": 6,
     "metadata": {},
     "output_type": "execute_result"
    }
   ],
   "source": [
    "odd_nums = [n for n in range(1, 101) if n % 2 != 0]\n",
    "odd_nums"
   ]
  },
  {
   "cell_type": "code",
   "execution_count": 11,
   "metadata": {
    "collapsed": false
   },
   "outputs": [],
   "source": [
    "one = 1 if False else 0\n",
    "one\n",
    "\n",
    "if False:\n",
    "    one = 1\n",
    "else:\n",
    "    one = 0"
   ]
  },
  {
   "cell_type": "code",
   "execution_count": 13,
   "metadata": {
    "collapsed": false
   },
   "outputs": [
    {
     "data": {
      "text/plain": [
       "['john', 'alice', 'bob']"
      ]
     },
     "execution_count": 13,
     "metadata": {},
     "output_type": "execute_result"
    }
   ],
   "source": [
    "names = ['John', 'Alice', 'Bob']\n",
    "lower_names = [name.lower() for name in names]\n",
    "lower_names"
   ]
  },
  {
   "cell_type": "markdown",
   "metadata": {},
   "source": [
    "## Readability score exercise\n",
    "For this exercise we will create a command-line program that calculates the [Automated readability index (ARI)](https://en.wikipedia.org/wiki/Automated_readability_index), readabality score, a string of text. The score is supposed to correspond to a grade-level of reading ability:\n",
    "\n",
    "<table style=\"margin-left:0;\">\n",
    "<tbody><tr>\n",
    "<td>Score</td>\n",
    "<td>Age</td>\n",
    "<td>Grade Level</td>\n",
    "</tr>\n",
    "<tr>\n",
    "<td>1</td>\n",
    "<td>5-6</td>\n",
    "<td>Kindergarten</td>\n",
    "</tr>\n",
    "<tr>\n",
    "<td>2</td>\n",
    "<td>6-7</td>\n",
    "<td>First Grade</td>\n",
    "</tr>\n",
    "<tr>\n",
    "<td>3</td>\n",
    "<td>7-8</td>\n",
    "<td>Second Grade</td>\n",
    "</tr>\n",
    "<tr>\n",
    "<td>4</td>\n",
    "<td>8-9</td>\n",
    "<td>Third Grade</td>\n",
    "</tr>\n",
    "<tr>\n",
    "<td>5</td>\n",
    "<td>9-10</td>\n",
    "<td>Fourth Grade</td>\n",
    "</tr>\n",
    "<tr>\n",
    "<td>6</td>\n",
    "<td>10-11</td>\n",
    "<td>Fifth Grade</td>\n",
    "</tr>\n",
    "<tr>\n",
    "<td>7</td>\n",
    "<td>11-12</td>\n",
    "<td>Sixth Grade</td>\n",
    "</tr>\n",
    "<tr>\n",
    "<td>8</td>\n",
    "<td>12-13</td>\n",
    "<td>Seventh Grade</td>\n",
    "</tr>\n",
    "<tr>\n",
    "<td>9</td>\n",
    "<td>13-14</td>\n",
    "<td>Eighth Grade</td>\n",
    "</tr>\n",
    "<tr>\n",
    "<td>10</td>\n",
    "<td>14-15</td>\n",
    "<td>Ninth Grade</td>\n",
    "</tr>\n",
    "<tr>\n",
    "<td>11</td>\n",
    "<td>15-16</td>\n",
    "<td>Tenth Grade</td>\n",
    "</tr>\n",
    "<tr>\n",
    "<td>12</td>\n",
    "<td>16-17</td>\n",
    "<td>Eleventh grade</td>\n",
    "</tr>\n",
    "<tr>\n",
    "<td>13</td>\n",
    "<td>17-18</td>\n",
    "<td>Twelfth grade</td>\n",
    "</tr>\n",
    "<tr>\n",
    "<td>14</td>\n",
    "<td>18-22</td>\n",
    "<td>College</td>\n",
    "</tr>\n",
    "</tbody></table>\n",
    "\n",
    "The score itself is based on the average number of characters per word and the average number of words per sentence. The final score is rounded up to the next integer, i.e. 10.1 rounds up to 11:\n",
    "\n",
    "$\\large ARI = 4.71 \\left (\\frac{characters}{words} \\right) + 0.5 \\left (\\frac{words}{sentences} \\right)  - 21.43 $\n",
    "\n",
    "To do so you will need to:\n",
    "* Look up string methods in the official Python **3** Standard Library docs. Make sure you are looking at the official docs for Python 3, not Python 2.\n",
    "* Collect a string of text as user input\n",
    "* Get all the words as a list\n",
    "* Count the words\n",
    "* For each word count the number of alphabetic characters\n",
    "* Count the number of sentences\n",
    "* Calculate and print the score\n",
    "\n",
    "** Challenge: ** allow users to enter the file path of a text file to compute its readability score."
   ]
  },
  {
   "cell_type": "markdown",
   "metadata": {},
   "source": [
    "## Blackack Program\n",
    "We are going to play blackjack, or 21, in random pairs. After that start diagramming your classes and logic for a command line Blackjack program."
   ]
  },
  {
   "cell_type": "markdown",
   "metadata": {},
   "source": [
    "## Card, Deck, Hands\n",
    "Please start to or continue to work on your Card, Deck and Hands program."
   ]
  }
 ],
 "metadata": {
  "kernelspec": {
   "display_name": "Python 3",
   "language": "python",
   "name": "python3"
  },
  "language_info": {
   "codemirror_mode": {
    "name": "ipython",
    "version": 3
   },
   "file_extension": ".py",
   "mimetype": "text/x-python",
   "name": "python",
   "nbconvert_exporter": "python",
   "pygments_lexer": "ipython3",
   "version": "3.5.1"
  }
 },
 "nbformat": 4,
 "nbformat_minor": 0
}
