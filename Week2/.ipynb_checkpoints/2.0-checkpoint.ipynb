{
 "cells": [
  {
   "cell_type": "markdown",
   "metadata": {},
   "source": [
    "## Evening 2.0"
   ]
  },
  {
   "cell_type": "markdown",
   "metadata": {},
   "source": [
    "## Review and something new\n",
    "* loops\n",
    "* list comprehensions\n",
    "* file i/o"
   ]
  },
  {
   "cell_type": "markdown",
   "metadata": {},
   "source": [
    "## Readability score exercise\n",
    "For this exercise we will create a command-line program that calculates the [Automated readability index (ARI)](https://en.wikipedia.org/wiki/Automated_readability_index), readabality score, a string of text. The score is based on the average number of characters per word and the average number of words per sentence:\n",
    "\n",
    "\n",
    "$\n",
    "ARI = 4.71 \\left (\\frac{characters}{words} \\right) + 0.5 \\left (\\frac{words}{sentences} \\right)  - 21.43\n",
    "$\n",
    "\n",
    "To do so you will need to:\n",
    "* Look up string methods in the official Python **3** docs. Make sure you are looking at the official docs for Python 3, not Python 2.\n",
    "* Collect a string of text as user input\n",
    "* Count the number words (or spaces)\n",
    "* Count the number of sentences\n",
    "* Print the score"
   ]
  }
 ],
 "metadata": {
  "kernelspec": {
   "display_name": "Python 3",
   "language": "python",
   "name": "python3"
  },
  "language_info": {
   "codemirror_mode": {
    "name": "ipython",
    "version": 3
   },
   "file_extension": ".py",
   "mimetype": "text/x-python",
   "name": "python",
   "nbconvert_exporter": "python",
   "pygments_lexer": "ipython3",
   "version": "3.5.1"
  }
 },
 "nbformat": 4,
 "nbformat_minor": 0
}
