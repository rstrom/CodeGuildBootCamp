{
 "cells": [
  {
   "cell_type": "markdown",
   "metadata": {},
   "source": [
    "## Evening 2.3"
   ]
  },
  {
   "cell_type": "markdown",
   "metadata": {},
   "source": [
    "## Python modules\n",
    "* review\n",
    "* standard modules\n",
    "* dir()\n",
    "* defining modules\n",
    "\n",
    "### Packages\n",
    "* `__init__.py`\n",
    "* `if __name__ == \"__main__\":`\n"
   ]
  },
  {
   "cell_type": "markdown",
   "metadata": {},
   "source": [
    "## pip\n",
    "pip installs packages\n",
    "* requests example"
   ]
  },
  {
   "cell_type": "markdown",
   "metadata": {},
   "source": [
    "## Virtual Environments - pyvenv\n",
    "* create a new project directory\n",
    "* run `pvenv venv` to create a `venv` folder that keeps track of your pip packages\n",
    "* add the venv fodler to your .gitignore (`echo \"venv\" > .gitignore`)\n",
    "* activate the virtual environment by running `source venv/bin/activate`\n",
    "* within this environment you can pip install packages\n",
    "* run `pip freeze > requirements.txt` to save the list of package dependencies and versions\n",
    "* to install dependencies run `pip install -r requirements.txt`"
   ]
  },
  {
   "cell_type": "markdown",
   "metadata": {},
   "source": [
    "## Blackjack\n",
    "* diagram your classes and logic"
   ]
  },
  {
   "cell_type": "markdown",
   "metadata": {},
   "source": [
    "## List sorting?"
   ]
  }
 ],
 "metadata": {
  "kernelspec": {
   "display_name": "Python 3",
   "language": "python",
   "name": "python3"
  },
  "language_info": {
   "codemirror_mode": {
    "name": "ipython",
    "version": 3
   },
   "file_extension": ".py",
   "mimetype": "text/x-python",
   "name": "python",
   "nbconvert_exporter": "python",
   "pygments_lexer": "ipython3",
   "version": "3.5.1"
  }
 },
 "nbformat": 4,
 "nbformat_minor": 0
}
