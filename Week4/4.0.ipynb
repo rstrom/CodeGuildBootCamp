{
 "cells": [
  {
   "cell_type": "markdown",
   "metadata": {},
   "source": [
    "## Evening 4.0\n",
    "** Challenge:** Create a webpage that just says YES if it's raining in Portland and NO if it's not\n",
    "\n",
    "** Challenge++:** Register a domain like \"isitraininginportland.com\", upload your webpage to gh pages and add CNAME redirect to your webpage.\n",
    "\n",
    "Alternative ideas: is PDX delayed? Is traffic delayed?"
   ]
  },
  {
   "cell_type": "markdown",
   "metadata": {},
   "source": [
    "## Check In\n",
    "Today we will meet individually to discuss your goals and how you've been doing so far:\n",
    "* How did the first four weeks go for you?\n",
    "* What are your goals for the rest of the course?\n",
    "* What are your goals for the next year?\n",
    "\n",
    "We will be meeting in the following order:"
   ]
  },
  {
   "cell_type": "code",
   "execution_count": 6,
   "metadata": {
    "collapsed": false
   },
   "outputs": [
    {
     "name": "stdout",
     "output_type": "stream",
     "text": [
      "['Alison', 'Hannah', 'Andrew', 'Darrin', 'Jay', 'Roy']\n"
     ]
    }
   ],
   "source": [
    "import random\n",
    "students = [\n",
    "    'Roy',\n",
    "    'Hannah',\n",
    "    'Jay',\n",
    "    'Darrin',\n",
    "    'Andrew',\n",
    "    'Alison'\n",
    "]\n",
    "print(random.sample(students, len(students)))"
   ]
  },
  {
   "cell_type": "markdown",
   "metadata": {},
   "source": [
    "## REST APIs\n",
    "* HTTP beyond \"web pages\"\n",
    "* RESTful APIs:\n",
    "    * client-server request -> response\n",
    "    * verbs\n",
    "    * statelessness\n",
    "* python \"requests\" library\n",
    "    * checking PDX status with the [faa.gov API](http://services.faa.gov/airport/status/PDX?format=json)"
   ]
  },
  {
   "cell_type": "markdown",
   "metadata": {},
   "source": [
    "## Exercise: Command-Line Weather\n",
    "For this exercise you will create a command-line program that asks \"Where should I check the weather?\" and responds \"The weather in {location} is {fahrenheit}° F\".\n",
    "\n",
    "Ingredients:\n",
    "* \"requests\" library (`pip3 install requests`)\n",
    "* OpenWeatherMap API account (sign up at http://openweathermap.org/api)\n",
    "    * note / copy your API key\n",
    "    * wait a few minutes for your key to activate\n",
    "    * make sure you correctly append it as a parameter in your API calss "
   ]
  },
  {
   "cell_type": "markdown",
   "metadata": {},
   "source": [
    "['Alison', 'Hannah', 'Andrew', 'Darrin', 'Jay', 'Roy']"
   ]
  }
 ],
 "metadata": {
  "kernelspec": {
   "display_name": "Python 3",
   "language": "python",
   "name": "python3"
  },
  "language_info": {
   "codemirror_mode": {
    "name": "ipython",
    "version": 3
   },
   "file_extension": ".py",
   "mimetype": "text/x-python",
   "name": "python",
   "nbconvert_exporter": "python",
   "pygments_lexer": "ipython3",
   "version": "3.5.1"
  }
 },
 "nbformat": 4,
 "nbformat_minor": 0
}
