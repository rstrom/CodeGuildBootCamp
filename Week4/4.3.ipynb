{
 "cells": [
  {
   "cell_type": "markdown",
   "metadata": {},
   "source": [
    "## Evening 4.3\n",
    "** Challenge:** Create a recursive Tower of Hanoi solver. Start with tests."
   ]
  },
  {
   "cell_type": "markdown",
   "metadata": {},
   "source": [
    "![testing goat](https://upload.wikimedia.org/wikipedia/commons/b/b1/Goat_face.jpg)\n",
    "## Obey the Goat: Functional Tests\n",
    "* conceputal overview\n",
    "* functional vs unit tests\n",
    "* red, green and refactor"
   ]
  },
  {
   "cell_type": "markdown",
   "metadata": {},
   "source": [
    "## Django TDD: a light intro\n",
    "Reference text: [*Test-Driven Development with Python*](http://chimera.labs.oreilly.com/books/1234000000754)\n",
    "* writing functional tests with selenium\n",
    "* running a django server"
   ]
  },
  {
   "cell_type": "markdown",
   "metadata": {},
   "source": [
    "## Exercise Continued: Recursive TDD\n",
    "In this exercise you will write a number of recursive functions. Begin by writing unit tests for each function and stubbing in return values for your functions. If you can't think of recursive solutions for your functions, start with iterative solutions or use functions from Python's standard library.\n",
    "\n",
    "You will need to write tests and solutions for the following functions:\n",
    "* factorial - $n!$\n",
    "* power - $x^n$\n",
    "* fibonacci *optional* - return the nth fibonnaci\n",
    "* string reversal\n",
    "* anagrams - return a list of anagrams for a given word\n",
    "* selectionsort\n",
    "* mergesort *optional*\n",
    "* quicksort\n",
    "* binary search *optional*"
   ]
  }
 ],
 "metadata": {
  "kernelspec": {
   "display_name": "Python 3",
   "language": "python",
   "name": "python3"
  },
  "language_info": {
   "codemirror_mode": {
    "name": "ipython",
    "version": 3
   },
   "file_extension": ".py",
   "mimetype": "text/x-python",
   "name": "python",
   "nbconvert_exporter": "python",
   "pygments_lexer": "ipython3",
   "version": "3.5.1"
  }
 },
 "nbformat": 4,
 "nbformat_minor": 0
}
