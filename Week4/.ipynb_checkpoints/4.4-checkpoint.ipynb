{
 "cells": [
  {
   "cell_type": "markdown",
   "metadata": {},
   "source": [
    "## Evening 4.4\n",
    "** Challenge:** Create a recursive Tower of Hanoi solver in Ocaml."
   ]
  },
  {
   "cell_type": "markdown",
   "metadata": {},
   "source": [
    "![o camel](https://farm3.staticflickr.com/2406/2466667912_b7bcea4a8a_o_d.jpg)\n",
    "## OCaml: a light intro\n",
    "* conceptual overview\n",
    "* functional programming"
   ]
  },
  {
   "cell_type": "markdown",
   "metadata": {},
   "source": [
    "## Exercise Continued: Recursive TDD\n",
    "In this exercise you will write a number of recursive functions using OCaml.\n",
    "\n",
    "You will need to write tests and solutions for the following functions:\n",
    "* factorial - $n!$\n",
    "* power - $x^n$\n",
    "* fibonacci *optional* - return the nth fibonnaci\n",
    "* string reversal\n",
    "* anagrams - return a list of anagrams for a given word\n",
    "* selectionsort\n",
    "* mergesort *optional*\n",
    "* quicksort\n",
    "* binary search *optional*"
   ]
  }
 ],
 "metadata": {
  "kernelspec": {
   "display_name": "Python 3",
   "language": "python",
   "name": "python3"
  },
  "language_info": {
   "codemirror_mode": {
    "name": "ipython",
    "version": 3
   },
   "file_extension": ".py",
   "mimetype": "text/x-python",
   "name": "python",
   "nbconvert_exporter": "python",
   "pygments_lexer": "ipython3",
   "version": "3.5.1"
  }
 },
 "nbformat": 4,
 "nbformat_minor": 0
}
