{
 "cells": [
  {
   "cell_type": "markdown",
   "metadata": {},
   "source": [
    "## Evening 1.2\n",
    "**Challenge of the day:** Encrypt you messages\n",
    "\n",
    "**Extra challenge:** Transmit / store your messages online"
   ]
  },
  {
   "cell_type": "markdown",
   "metadata": {},
   "source": [
    "## Text Encoding / Decoding\n",
    "\n",
    "*Python Programming 5.4*\n",
    "\n",
    "Two simple programs to send and receive messages:\n",
    "* a program that encodes text into numbers\n",
    "* a program that decodes numbers into text\n",
    "    \n",
    "Exercise convert this program into Python. Ingredients:\n",
    "* input\n",
    "* help e.g.: help(ord)\n",
    "    ```\n",
    "    Help on built-in function ord in module builtins:\n",
    "\n",
    "    ord(c, /)\n",
    "        Return the Unicode code point for a one-character string.\n",
    "    ```\n",
    "* ord\n",
    "* chr\n",
    "* *string*.split"
   ]
  },
  {
   "cell_type": "markdown",
   "metadata": {},
   "source": [
    "## 20 min of Hangman"
   ]
  },
  {
   "cell_type": "markdown",
   "metadata": {},
   "source": [
    "## Classes\n",
    "\n",
    "*Python Programming 10.3*\n",
    "\n",
    "* conceptual overview\n",
    "* Die (Dice) class"
   ]
  },
  {
   "cell_type": "markdown",
   "metadata": {},
   "source": [
    "## Assignment: Dungeon.py\n",
    "* Program your rooms using a Room class"
   ]
  }
 ],
 "metadata": {
  "kernelspec": {
   "display_name": "Python 3",
   "language": "python",
   "name": "python3"
  },
  "language_info": {
   "codemirror_mode": {
    "name": "ipython",
    "version": 3
   },
   "file_extension": ".py",
   "mimetype": "text/x-python",
   "name": "python",
   "nbconvert_exporter": "python",
   "pygments_lexer": "ipython3",
   "version": "3.5.1"
  }
 },
 "nbformat": 4,
 "nbformat_minor": 0
}
