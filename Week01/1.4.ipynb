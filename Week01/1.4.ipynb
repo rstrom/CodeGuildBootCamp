{
 "cells": [
  {
   "cell_type": "markdown",
   "metadata": {},
   "source": [
    "## Evening 1.4\n",
    "\n",
    "** Challenge: ** Draw actual graphic cards for your Card, Deck, Hands program"
   ]
  },
  {
   "cell_type": "markdown",
   "metadata": {},
   "source": [
    "## More on Classes\n",
    "* diagramming class relationships\n",
    "* class inheritance"
   ]
  },
  {
   "cell_type": "markdown",
   "metadata": {},
   "source": [
    "## Code Review\n",
    "We will be doing code reviews in the following order:"
   ]
  },
  {
   "cell_type": "code",
   "execution_count": null,
   "metadata": {
    "collapsed": false
   },
   "outputs": [],
   "source": [
    "import random\n",
    "\n",
    "students = {\n",
    "    'Roy',\n",
    "    'Hannah',\n",
    "    'Jay',\n",
    "    'Darrin',\n",
    "    'Andrew',\n",
    "    'Alison'\n",
    "}\n",
    "\n",
    "shuffled = random.sample(students, len(students))\n",
    "\n",
    "for i, s in enumerate(shuffled):\n",
    "    print('{0}: {1}'.format(i, s))"
   ]
  },
  {
   "cell_type": "markdown",
   "metadata": {},
   "source": [
    "## Dungeon, with class\n",
    "Rewrite your Dungeon program (or create a new Dungeon program) using a Room class\n",
    "* game demo"
   ]
  },
  {
   "cell_type": "markdown",
   "metadata": {},
   "source": [
    "## Card, Deck, Hands\n",
    "Your goal is to create a command-line program that can deal multiple hands from a deck of cards. You will need a Card class, a Deck class and a Hand class (in separate files). Program your user input, data structures and logic in a separate file from the classes."
   ]
  }
 ],
 "metadata": {
  "kernelspec": {
   "display_name": "Python 3",
   "language": "python",
   "name": "python3"
  },
  "language_info": {
   "codemirror_mode": {
    "name": "ipython",
    "version": 3
   },
   "file_extension": ".py",
   "mimetype": "text/x-python",
   "name": "python",
   "nbconvert_exporter": "python",
   "pygments_lexer": "ipython3",
   "version": "3.5.1"
  }
 },
 "nbformat": 4,
 "nbformat_minor": 0
}
