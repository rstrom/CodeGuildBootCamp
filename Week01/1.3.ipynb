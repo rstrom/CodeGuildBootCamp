{
 "cells": [
  {
   "cell_type": "markdown",
   "metadata": {},
   "source": [
    "## Evening 1.3\n",
    "\n",
    "** Challenge: ** Turn your deck into a server"
   ]
  },
  {
   "cell_type": "markdown",
   "metadata": {},
   "source": [
    "## Introduction to Classes\n",
    "\n",
    "*Python Programming 10.3*\n",
    "\n",
    "* Conceptual overview\n",
    "* Syntax\n",
    "* Scope\n",
    "* Bank class\n",
    "    * UML diagram\n",
    "    * Live coding example"
   ]
  },
  {
   "cell_type": "markdown",
   "metadata": {},
   "source": [
    "## Pair Programming: Dice\n",
    "* With a partner rewrite your Dice program using classes. First draw a UML diagram for the Die class.\n",
    "\n",
    "Here are the partners:"
   ]
  },
  {
   "cell_type": "code",
   "execution_count": null,
   "metadata": {
    "collapsed": false
   },
   "outputs": [],
   "source": [
    "import random\n",
    "\n",
    "students = {\n",
    "    'Roy',\n",
    "    'Hannah',\n",
    "    'Jay',\n",
    "    'Darrin',\n",
    "    'Andrew',\n",
    "    'Alison'\n",
    "}\n",
    "\n",
    "for s in range(0, len(students), 2):\n",
    "    p1, p2 = random.sample(students, 2)\n",
    "    students.remove(p1)\n",
    "    students.remove(p2)\n",
    "    print('{0} and {1} are partners'.format(p1, p2))\n",
    "    "
   ]
  },
  {
   "cell_type": "markdown",
   "metadata": {},
   "source": [
    "## Card Deck\n",
    "End goal: a command-line program that can shuffle and draw cards from a deck. You will need a Deck class with shuffle and draw methods and a cards propertie. The Card class will need suit, value and rank properties. Start by diagramming the classes."
   ]
  }
 ],
 "metadata": {
  "kernelspec": {
   "display_name": "Python 3",
   "language": "python",
   "name": "python3"
  },
  "language_info": {
   "codemirror_mode": {
    "name": "ipython",
    "version": 3
   },
   "file_extension": ".py",
   "mimetype": "text/x-python",
   "name": "python",
   "nbconvert_exporter": "python",
   "pygments_lexer": "ipython3",
   "version": "3.5.1"
  }
 },
 "nbformat": 4,
 "nbformat_minor": 0
}
