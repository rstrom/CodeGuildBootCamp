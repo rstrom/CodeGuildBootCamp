{
 "cells": [
  {
   "cell_type": "markdown",
   "metadata": {},
   "source": [
    "## Evening 4.1\n",
    "**Challenge:** Create web server for your Card, Deck, Hands program"
   ]
  },
  {
   "cell_type": "markdown",
   "metadata": {},
   "source": [
    "## Virtual Enviroments: pyvenv\n",
    "Please reference: https://docs.python.org/3/library/venv.html\n",
    "* conceptual overview\n",
    "* steps for creating a project with a pyvenv virtual environment:\n",
    "    * create a new a directory <ProjectDir>\n",
    "    * from your shell run `<ProjectDir>$ pyvenv venv`\n",
    "        * this will create a new directory with you virtual environment, named `venv`, inside of `<ProjectDir>`\n",
    "        * on Windows make sure you have `pyvenv` in your path\n",
    "    * run the following command, depending on your platform and shell, to activate the virtual environment:\n",
    "    \n",
    "<table border=\"1\" style=\"float:left;\">\n",
    "    <colgroup>\n",
    "    <col width=\"18%\">\n",
    "    <col width=\"24%\">\n",
    "    <col width=\"58%\">\n",
    "    </colgroup>\n",
    "    <thead valign=\"bottom\">\n",
    "    <tr class=\"row-odd\"><th class=\"head\">Platform</th>\n",
    "    <th class=\"head\">Shell</th>\n",
    "    <th class=\"head\">Command to activate virtual environment</th>\n",
    "    </tr>\n",
    "    </thead>\n",
    "    <tbody valign=\"top\">\n",
    "        <tr class=\"row-even\"><td>Posix</td>\n",
    "            <td>bash/zsh</td>\n",
    "            <td>\\$ source &lt;venv&gt;/bin/activate</td>\n",
    "        </tr>\n",
    "        <tr class=\"row-odd\"><td>&nbsp;</td>\n",
    "        <td>fish</td>\n",
    "        <td>\\$ . &lt;venv&gt;/bin/activate.fish</td>\n",
    "        </tr>\n",
    "        <tr class=\"row-even\"><td>&nbsp;</td>\n",
    "        <td>csh/tcsh</td>\n",
    "        <td>\\$ source &lt;venv&gt;/bin/activate.csh</td>\n",
    "        </tr>\n",
    "        <tr class=\"row-odd\"><td>Windows</td>\n",
    "        <td>cmd.exe</td>\n",
    "        <td>C:&gt; &lt;venv&gt;/Scripts/activate.bat</td>\n",
    "        </tr>\n",
    "        <tr class=\"row-even\"><td>&nbsp;</td>\n",
    "        <td>PowerShell</td>\n",
    "        <td>PS C:&gt; &lt;venv&gt;/Scripts/Activate.ps1</td>\n",
    "        </tr>\n",
    "    </tbody>\n",
    "</table>"
   ]
  },
  {
   "cell_type": "markdown",
   "metadata": {},
   "source": [
    "## pyvenv Dependency Management\n",
    "* with pyvenv activated any pip packages you install will automatically be added to `/venv/include`\n",
    "* make sure to add `venv` to your `.gitignore`\n",
    "* to keep track of your dependencies in a requirements.txt file, run `pip freeze > requirements.txt`\n",
    "    * someone else can install your dependencies by running `pip install -r requirements.txt`"
   ]
  },
  {
   "cell_type": "markdown",
   "metadata": {},
   "source": [
    "## Exercise: Simple Web Server\n",
    "In this exercise you will create a simple web server with an an index, about and contact routes using the Flask microframework.\n",
    "* create a new project directory with virtual environment\n",
    "* activate your virtual environment\n",
    "* install flask in your virtual environment\n",
    "* create routes and request handlers for index ('/'), about ('/about') and contact ('/contact')"
   ]
  }
 ],
 "metadata": {
  "kernelspec": {
   "display_name": "Python 3",
   "language": "python",
   "name": "python3"
  },
  "language_info": {
   "codemirror_mode": {
    "name": "ipython",
    "version": 3
   },
   "file_extension": ".py",
   "mimetype": "text/x-python",
   "name": "python",
   "nbconvert_exporter": "python",
   "pygments_lexer": "ipython3",
   "version": "3.5.1"
  }
 },
 "nbformat": 4,
 "nbformat_minor": 0
}
