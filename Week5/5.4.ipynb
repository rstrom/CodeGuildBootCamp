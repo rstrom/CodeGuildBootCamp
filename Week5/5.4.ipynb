{
 "cells": [
  {
   "cell_type": "markdown",
   "metadata": {},
   "source": [
    "## Evening 5.4"
   ]
  },
  {
   "cell_type": "markdown",
   "metadata": {},
   "source": [
    "## TTD with Python Ch. 5\n",
    "* review\n",
    "    * database basics\n",
    "    * django models\n",
    "    * django migrations\n",
    "* walkthrough\n",
    "    * processing a POST request in view functions\n",
    "    * creating a model\n",
    "    * writing and reading with a model instance"
   ]
  },
  {
   "cell_type": "markdown",
   "metadata": {},
   "source": [
    "## Code Review\n",
    "We will be meeting in the following order:"
   ]
  },
  {
   "cell_type": "code",
   "execution_count": null,
   "metadata": {
    "collapsed": true
   },
   "outputs": [],
   "source": [
    "import random\n",
    "students = [\n",
    "    'Roy',\n",
    "    'Hannah',\n",
    "    'Jay',\n",
    "    'Darrin',\n",
    "    'Andrew',\n",
    "    'Alison'\n",
    "]\n",
    "print(random.sample(students, len(students)))"
   ]
  }
 ],
 "metadata": {
  "kernelspec": {
   "display_name": "Python 3",
   "language": "python",
   "name": "python3"
  },
  "language_info": {
   "codemirror_mode": {
    "name": "ipython",
    "version": 3
   },
   "file_extension": ".py",
   "mimetype": "text/x-python",
   "name": "python",
   "nbconvert_exporter": "python",
   "pygments_lexer": "ipython3",
   "version": "3.5.1"
  }
 },
 "nbformat": 4,
 "nbformat_minor": 0
}
