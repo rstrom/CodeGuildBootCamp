{
 "cells": [
  {
   "cell_type": "markdown",
   "metadata": {},
   "source": [
    "## Evening 5.1\n",
    "**Thought for today:** \"I found that the chief difficulty for most people was to realize that they really heard *new things*—that is, things that they never heard before. They kept translating what they heard into their habitual language. They had ceased to hope and believe that there might be anything new.\" - P.D. Ouspenksy"
   ]
  },
  {
   "cell_type": "markdown",
   "metadata": {},
   "source": [
    "## Django: Resolving URLs and View functions\n",
    "* conceptual overview\n",
    "* example:\n",
    "    * create a django project: `django-admin.py startproject [projectname]`\n",
    "        * creates the scaffolding and directory structure for your project\n",
    "        * creates a url resolver scaffolding / file in `./[projectname]/urls.py`\n",
    "    * create a a django app in your project: `python manage.py startapp [`\n",
    "        * creates an app subdirectory in `./[appname]`\n",
    "        * creates a view function scaffold / file in `./[appname]/views.py`"
   ]
  },
  {
   "cell_type": "markdown",
   "metadata": {},
   "source": [
    "## Harry P: Ch. 3\n",
    "* review Ch 1 and 2\n",
    "* unit tests in Django"
   ]
  },
  {
   "cell_type": "markdown",
   "metadata": {},
   "source": [
    "## Pair Programming Exercise\n",
    "* complete Chs 1 - 3\n",
    "* don't skip any steps\n",
    "* take turns failing, passing and refactoring\n",
    "\n",
    "Here are the partners:"
   ]
  },
  {
   "cell_type": "code",
   "execution_count": 1,
   "metadata": {
    "collapsed": false
   },
   "outputs": [
    {
     "name": "stdout",
     "output_type": "stream",
     "text": [
      "Alison and Roy are partners\n",
      "Hannah and Andrew are partners\n",
      "Jay and Darrin are partners\n"
     ]
    }
   ],
   "source": [
    "import random\n",
    "\n",
    "students = {\n",
    "    'Roy',\n",
    "    'Hannah',\n",
    "    'Jay',\n",
    "    'Darrin',\n",
    "    'Andrew',\n",
    "    'Alison'\n",
    "}\n",
    "\n",
    "for _ in range(0, len(students), 2):\n",
    "    p1, p2 = random.sample(students, 2)\n",
    "    students.remove(p1)\n",
    "    students.remove(p2)\n",
    "    print('{0} and {1} are partners'.format(p1, p2))"
   ]
  }
 ],
 "metadata": {
  "kernelspec": {
   "display_name": "Python 3",
   "language": "python",
   "name": "python3"
  },
  "language_info": {
   "codemirror_mode": {
    "name": "ipython",
    "version": 3
   },
   "file_extension": ".py",
   "mimetype": "text/x-python",
   "name": "python",
   "nbconvert_exporter": "python",
   "pygments_lexer": "ipython3",
   "version": "3.5.1"
  }
 },
 "nbformat": 4,
 "nbformat_minor": 0
}
