{
 "cells": [
  {
   "cell_type": "markdown",
   "metadata": {},
   "source": [
    "## Evening 1.3\n",
    "\n",
    "** Challenge: ** Turn your deck into a server"
   ]
  },
  {
   "cell_type": "markdown",
   "metadata": {},
   "source": [
    "## Encryption / Decryption for Fun"
   ]
  },
  {
   "cell_type": "code",
   "execution_count": 47,
   "metadata": {
    "collapsed": true
   },
   "outputs": [],
   "source": [
    "def encode_rot13(text):\n",
    "    rot_text = ''\n",
    "    for c in text:\n",
    "        rot_text += chr(ord(c) + 13)\n",
    "    return rot_text\n",
    "\n",
    "def decode_rot13(rot_text):\n",
    "    text = ''\n",
    "    for c in rot_text:\n",
    "        text += chr(ord(c) - 13)\n",
    "    return text"
   ]
  },
  {
   "cell_type": "code",
   "execution_count": 51,
   "metadata": {
    "collapsed": false
   },
   "outputs": [
    {
     "data": {
      "text/plain": [
       "'Ur\\x86'"
      ]
     },
     "execution_count": 51,
     "metadata": {},
     "output_type": "execute_result"
    }
   ],
   "source": [
    "encode_rot13(\"Hey\")"
   ]
  },
  {
   "cell_type": "code",
   "execution_count": 53,
   "metadata": {
    "collapsed": false
   },
   "outputs": [
    {
     "data": {
      "text/plain": [
       "'Hey'"
      ]
     },
     "execution_count": 53,
     "metadata": {},
     "output_type": "execute_result"
    }
   ],
   "source": [
    "decode_rot13('Ur\\x86')"
   ]
  },
  {
   "cell_type": "code",
   "execution_count": 58,
   "metadata": {
    "collapsed": false
   },
   "outputs": [],
   "source": [
    "def vigenere_encode(text, key):\n",
    "    cipher_text = ''\n",
    "    for i, c in enumerate(text):\n",
    "        key_index = i % len(key)\n",
    "        key_num = ord(key[key_index])\n",
    "        cipher_text += chr(ord(c) + key_num)\n",
    "    return cipher_text\n",
    "\n",
    "def vigenere_decode(cipher_text, key):\n",
    "    text = ''\n",
    "    for i, c in enumerate(cipher_text):\n",
    "        key_index = i % len(key)\n",
    "        key_num = ord(key[key_index])\n",
    "        text += chr(ord(c) - key_num)\n",
    "    return text"
   ]
  },
  {
   "cell_type": "code",
   "execution_count": 60,
   "metadata": {
    "collapsed": false
   },
   "outputs": [
    {
     "data": {
      "text/plain": [
       "'\\x92åÙÏÐaÒâÛÜ¯\\x90ÖÛÝ'"
      ]
     },
     "execution_count": 60,
     "metadata": {},
     "output_type": "execute_result"
    }
   ],
   "source": [
    "vigenere_encode('Quick brown fox', 'Apple')"
   ]
  },
  {
   "cell_type": "code",
   "execution_count": 61,
   "metadata": {
    "collapsed": false
   },
   "outputs": [
    {
     "data": {
      "text/plain": [
       "'Quick brown fox'"
      ]
     },
     "execution_count": 61,
     "metadata": {},
     "output_type": "execute_result"
    }
   ],
   "source": [
    "vigenere_decode('\\x92åÙÏÐaÒâÛÜ¯\\x90ÖÛÝ', 'Apple')"
   ]
  },
  {
   "cell_type": "code",
   "execution_count": 55,
   "metadata": {
    "collapsed": false
   },
   "outputs": [
    {
     "data": {
      "text/plain": [
       "3"
      ]
     },
     "execution_count": 55,
     "metadata": {},
     "output_type": "execute_result"
    }
   ],
   "source": [
    "23 % 10"
   ]
  },
  {
   "cell_type": "markdown",
   "metadata": {},
   "source": [
    "## Introduction to Classes\n",
    "\n",
    "*Python Programming 10.3*\n",
    "\n",
    "* Conceptual overview\n",
    "* Syntax\n",
    "* Scope\n",
    "* Bank class\n",
    "    * UML diagram\n",
    "    * Live coding example"
   ]
  },
  {
   "cell_type": "markdown",
   "metadata": {},
   "source": [
    "## Pair Programming: Dice\n",
    "* With a partner rewrite your Dice program using classes. First draw a UML diagram for the Die class.\n",
    "\n",
    "Here are the partners:"
   ]
  },
  {
   "cell_type": "code",
   "execution_count": null,
   "metadata": {
    "collapsed": false
   },
   "outputs": [],
   "source": [
    "import random\n",
    "\n",
    "students = {\n",
    "    'Roy',\n",
    "    'Hannah',\n",
    "    'Jay',\n",
    "    'Darrin',\n",
    "    'Andrew',\n",
    "    'Alison'\n",
    "}\n",
    "\n",
    "for s in range(0, len(students), 2):\n",
    "    p1, p2 = random.sample(students, 2)\n",
    "    students.remove(p1)\n",
    "    students.remove(p2)\n",
    "    print('{0} is the driver and {1} is the navigator'.format(p1, p2))\n",
    "    "
   ]
  },
  {
   "cell_type": "markdown",
   "metadata": {},
   "source": [
    "## Card Deck\n",
    "End goal: a command-line program that can shuffle and draw cards from a deck. You will need a Deck class with shuffle and draw methods and a cards propertie. The Card class will need suit, value and rank properties. Start by diagramming the classes."
   ]
  }
 ],
 "metadata": {
  "kernelspec": {
   "display_name": "Python 3",
   "language": "python",
   "name": "python3"
  },
  "language_info": {
   "codemirror_mode": {
    "name": "ipython",
    "version": 3
   },
   "file_extension": ".py",
   "mimetype": "text/x-python",
   "name": "python",
   "nbconvert_exporter": "python",
   "pygments_lexer": "ipython3",
   "version": "3.5.1"
  }
 },
 "nbformat": 4,
 "nbformat_minor": 0
}
