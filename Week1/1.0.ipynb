{
 "cells": [
  {
   "cell_type": "markdown",
   "metadata": {},
   "source": [
    "## Evening 1.0\n",
    "\n",
    "**Challenge of the day:** Use an http reqeuest to programmatically load words for today's Hangman assignment"
   ]
  },
  {
   "cell_type": "markdown",
   "metadata": {},
   "source": [
    "## Modules\n",
    "We are going to walk through an example program that uses modules adapted from the Python 3 tutorial: https://docs.python.org/3/tutorial/modules.html\n",
    "\n",
    "* in your terminal create and open a new project directory in Atom for this example\n",
    "* create a file `fibo.py` with two functions that return the fibonacci sequence:\n",
    "    ```python\n",
    "    # Fibonacci numbers module\n",
    "\n",
    "    def fib(n):    # write Fibonacci series up to n\n",
    "        a, b = 0, 1\n",
    "        while b < n:\n",
    "            print(b, end=' ')\n",
    "            a, b = b, a+b\n",
    "        print()\n",
    "\n",
    "    def fib2(n): # return Fibonacci series up to n\n",
    "        result = []\n",
    "        a, b = 0, 1\n",
    "        while b < n:\n",
    "            result.append(b)\n",
    "            a, b = b, a+b\n",
    "        return result\n",
    "    ```\n",
    "* create another file `program.py` that imports and calls these two functions from the fibo module:\n",
    "    ```python\n",
    "    from fibo import fib, fib2\n",
    "    \n",
    "    fib(100)\n",
    "    \n",
    "    for i, n in enumerate(fib2(100))\n",
    "        print(\"{0}: {1}\".format(i, n))\n",
    "    ```\n",
    "* write docstrings for each of the functions in `fibo.py`\n",
    "* in `program.py` calculate the quotient of the nth fibonacci number over the (n - 1)th for a given n\n",
    "* calculatate the difference in quotients"
   ]
  },
  {
   "cell_type": "markdown",
   "metadata": {},
   "source": [
    "## File I/O\n",
    "\n",
    "For this walkthrough we are going to open a text file in a python, read it, write to it and close it:\n",
    "* In a new directory create a sample text file `sample.txt`:\n",
    "    ```\n",
    "    This is a text file.\n",
    "    This is the second line.\n",
    "    ```\n",
    "* In `fileio.py`:\n",
    "    ```python\n",
    "    f = open('sample.txt', 'r+')\n",
    "\n",
    "    for line in f:\n",
    "        print(line, end='')\n",
    "\n",
    "    f.close()\n",
    "    ```\n",
    "* Using `with` syntax:\n",
    "    ```python\n",
    "    with open('sample.txt', 'r+') as f:\n",
    "        for line in f:\n",
    "            print(line, end=\"\")\n",
    "    ```\n",
    "* Writing:\n",
    "    ```python\n",
    "    with open('sample.txt', 'r+') as f:\n",
    "        f.write('It was a dark and stormy night.')\n",
    "    ```"
   ]
  },
  {
   "cell_type": "markdown",
   "metadata": {},
   "source": [
    "## Hangman\n",
    "Concepts:\n",
    "* Interfacing with external code\n",
    "* "
   ]
  }
 ],
 "metadata": {
  "kernelspec": {
   "display_name": "Python 3",
   "language": "python",
   "name": "python3"
  },
  "language_info": {
   "codemirror_mode": {
    "name": "ipython",
    "version": 3
   },
   "file_extension": ".py",
   "mimetype": "text/x-python",
   "name": "python",
   "nbconvert_exporter": "python",
   "pygments_lexer": "ipython3",
   "version": "3.5.1"
  }
 },
 "nbformat": 4,
 "nbformat_minor": 0
}
