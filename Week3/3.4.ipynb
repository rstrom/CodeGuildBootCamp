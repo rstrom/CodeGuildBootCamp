{
 "cells": [
  {
   "cell_type": "markdown",
   "metadata": {},
   "source": [
    "## Evening 3.4"
   ]
  },
  {
   "cell_type": "markdown",
   "metadata": {},
   "source": [
    "## HTTP POST & HTML Forms\n",
    "* post requests\n",
    "* form\n",
    "* label\n",
    "* input\n",
    "    * text\n",
    "    * submit\n",
    "* fieldset\n",
    "    * radio\n",
    "    * checkbox"
   ]
  },
  {
   "cell_type": "markdown",
   "metadata": {},
   "source": [
    "## Exercise: Burrito Form\n",
    "Create a form to order a burrito, including name, phone number, a radio fieldset for protein options, and a checkbox fieldset for optional ingredients. Submit the data to https://httpbin.org/post by setting this URL as the value for the \"action\" attribute in your form element.\n",
    "\n",
    "Stuck? Take a look at https://www.w3.org/TR/html5/forms.html#writing-a-form's-user-interface"
   ]
  },
  {
   "cell_type": "markdown",
   "metadata": {},
   "source": [
    "## Code Review & Github Pages\n",
    "We will be doing code reviews / check ins. Please upload your personal webpage to your Github profile following this guide: https://pages.github.com/"
   ]
  }
 ],
 "metadata": {
  "kernelspec": {
   "display_name": "Python 3",
   "language": "python",
   "name": "python3"
  },
  "language_info": {
   "codemirror_mode": {
    "name": "ipython",
    "version": 3
   },
   "file_extension": ".py",
   "mimetype": "text/x-python",
   "name": "python",
   "nbconvert_exporter": "python",
   "pygments_lexer": "ipython3",
   "version": "3.5.1"
  }
 },
 "nbformat": 4,
 "nbformat_minor": 0
}
