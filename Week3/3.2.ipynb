{
 "cells": [
  {
   "cell_type": "markdown",
   "metadata": {},
   "source": [
    "## Evening 3.2"
   ]
  },
  {
   "cell_type": "markdown",
   "metadata": {},
   "source": [
    "## CSS\n",
    "* review\n",
    "* selectors"
   ]
  },
  {
   "cell_type": "markdown",
   "metadata": {},
   "source": [
    "## CSS3 Flex Layout\n",
    "* conceptual overview\n",
    "    * flex container\n",
    "    * flex items\n",
    "    * main axis\n",
    "    * cross axis\n",
    "* flex properties\n",
    "    * containers:\n",
    "        * flex-direction\n",
    "        * justify-content\n",
    "        * align-items\n",
    "    * items:\n",
    "        * flex-basis\n",
    "        * flex-grow\n",
    "        * flex-shrink"
   ]
  },
  {
   "cell_type": "markdown",
   "metadata": {},
   "source": [
    "## Exercise: Flexbox Craigslist Layout\n",
    "Make sure to have all the categories and columns. Don't worry about including the links and text. Do not use floats. It should look something like this:\n",
    "<img src=\"yourlist.png\" />"
   ]
  }
 ],
 "metadata": {
  "kernelspec": {
   "display_name": "Python 3",
   "language": "python",
   "name": "python3"
  },
  "language_info": {
   "codemirror_mode": {
    "name": "ipython",
    "version": 3
   },
   "file_extension": ".py",
   "mimetype": "text/x-python",
   "name": "python",
   "nbconvert_exporter": "python",
   "pygments_lexer": "ipython3",
   "version": "3.5.1"
  }
 },
 "nbformat": 4,
 "nbformat_minor": 0
}
