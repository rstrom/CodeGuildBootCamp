{
 "cells": [
  {
   "cell_type": "markdown",
   "metadata": {},
   "source": [
    "## Evening 3.1\n",
    "**Challenge:** Create your own CSS grid stylesheet"
   ]
  },
  {
   "cell_type": "markdown",
   "metadata": {},
   "source": [
    "## CSS Box Model\n",
    "![box model](https://mdn.mozillademos.org/files/8685/boxmodel.png)\n",
    "Source: https://developer.mozilla.org/en-US/docs/Web/CSS/CSS_Box_Model/Introduction_to_the_CSS_box_model"
   ]
  },
  {
   "cell_type": "markdown",
   "metadata": {},
   "source": [
    "## CSS Positioning\n",
    "* block vs inline level elements\n",
    "* display: relative, absolute and fixed\n",
    "* floating elements\n",
    "* horizontally centering\n",
    "    * inline elements\n",
    "    * block elements\n",
    "* vertically centering\n",
    "    * sorry"
   ]
  },
  {
   "cell_type": "markdown",
   "metadata": {},
   "source": [
    "## Exercise: reformat \n",
    "In this exercise you will take your favorite wikipedia entry or public domain short story and reformat it like the diagram with the following features:\n",
    "* header\n",
    "* two column layout\n",
    "* fixed nav column to jump between sections\n",
    "* floated images in the text\n",
    "* footer\n",
    "![diagram](cssdiagram.png)"
   ]
  },
  {
   "cell_type": "markdown",
   "metadata": {},
   "source": [
    "## GitHub Pages\n",
    "Upload your bio page to github pages. See: https://pages.github.com"
   ]
  }
 ],
 "metadata": {
  "kernelspec": {
   "display_name": "Python 3",
   "language": "python",
   "name": "python3"
  },
  "language_info": {
   "codemirror_mode": {
    "name": "ipython",
    "version": 3
   },
   "file_extension": ".py",
   "mimetype": "text/x-python",
   "name": "python",
   "nbconvert_exporter": "python",
   "pygments_lexer": "ipython3",
   "version": "3.5.1"
  }
 },
 "nbformat": 4,
 "nbformat_minor": 0
}
