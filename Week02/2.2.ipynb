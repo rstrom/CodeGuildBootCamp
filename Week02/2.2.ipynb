{
 "cells": [
  {
   "cell_type": "markdown",
   "metadata": {},
   "source": [
    "## Evening 2.2"
   ]
  },
  {
   "cell_type": "markdown",
   "metadata": {},
   "source": [
    "# Git: the Forest\n",
    "from a mile high\n",
    "* git init\n",
    "* git add\n",
    "    * staged snapshot\n",
    "* git commit\n",
    "    * HEAD\n",
    "    * git log\n",
    "* git status\n",
    "* git branch\n",
    "    * local branches\n",
    "    * remote branches\n",
    "        * git remote add\n",
    "* git merge\n",
    "* git stash\n",
    "    * git stash pop\n",
    "* git reset\n",
    "    * unstaging\n",
    "* git revert\n",
    "* git push\n",
    "* git fetch\n",
    "* git pull\n",
    "* git clone"
   ]
  },
  {
   "cell_type": "markdown",
   "metadata": {},
   "source": [
    "## GitHub: the Mitochondrial Network\n",
    "* creating a repo\n",
    "* adding collaborators\n",
    "* merge conflicts"
   ]
  },
  {
   "cell_type": "markdown",
   "metadata": {},
   "source": [
    "## Blackjack\n",
    "* initialize an empty git repo for your Blackjack repo\n",
    "* write up a short README.md explaining what your program does\n",
    "* create a new branch for a six shoe deck version and update the README.md in that branch\n",
    "* merge that branch back in to master\n",
    "* revert master back to the original version\n",
    "* create a GitHub repo\n",
    "* add the GitHub remote branch\n",
    "* push to GitHub branch"
   ]
  }
 ],
 "metadata": {
  "kernelspec": {
   "display_name": "Python 3",
   "language": "python",
   "name": "python3"
  },
  "language_info": {
   "codemirror_mode": {
    "name": "ipython",
    "version": 3
   },
   "file_extension": ".py",
   "mimetype": "text/x-python",
   "name": "python",
   "nbconvert_exporter": "python",
   "pygments_lexer": "ipython3",
   "version": "3.5.1"
  }
 },
 "nbformat": 4,
 "nbformat_minor": 0
}
