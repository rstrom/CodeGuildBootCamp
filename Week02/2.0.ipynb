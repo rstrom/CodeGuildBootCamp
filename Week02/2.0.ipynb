{
 "cells": [
  {
   "cell_type": "markdown",
   "metadata": {},
   "source": [
    "## Evening 2.0"
   ]
  },
  {
   "cell_type": "markdown",
   "metadata": {},
   "source": [
    "## Review and something new\n",
    "* scope\n",
    "* loops\n",
    "* list comprehensions"
   ]
  },
  {
   "cell_type": "markdown",
   "metadata": {},
   "source": [
    "## Readability score exercise\n",
    "For this exercise we will create a command-line program that calculates the [Automated readability index (ARI)](https://en.wikipedia.org/wiki/Automated_readability_index), readabality score, a string of text. The score is supposed to correspond to a grade-level of reading ability:\n",
    "\n",
    "<table style=\"margin-left:0;\">\n",
    "<tbody><tr>\n",
    "<td>Score</td>\n",
    "<td>Age</td>\n",
    "<td>Grade Level</td>\n",
    "</tr>\n",
    "<tr>\n",
    "<td>1</td>\n",
    "<td>5-6</td>\n",
    "<td>Kindergarten</td>\n",
    "</tr>\n",
    "<tr>\n",
    "<td>2</td>\n",
    "<td>6-7</td>\n",
    "<td>First Grade</td>\n",
    "</tr>\n",
    "<tr>\n",
    "<td>3</td>\n",
    "<td>7-8</td>\n",
    "<td>Second Grade</td>\n",
    "</tr>\n",
    "<tr>\n",
    "<td>4</td>\n",
    "<td>8-9</td>\n",
    "<td>Third Grade</td>\n",
    "</tr>\n",
    "<tr>\n",
    "<td>5</td>\n",
    "<td>9-10</td>\n",
    "<td>Fourth Grade</td>\n",
    "</tr>\n",
    "<tr>\n",
    "<td>6</td>\n",
    "<td>10-11</td>\n",
    "<td>Fifth Grade</td>\n",
    "</tr>\n",
    "<tr>\n",
    "<td>7</td>\n",
    "<td>11-12</td>\n",
    "<td>Sixth Grade</td>\n",
    "</tr>\n",
    "<tr>\n",
    "<td>8</td>\n",
    "<td>12-13</td>\n",
    "<td>Seventh Grade</td>\n",
    "</tr>\n",
    "<tr>\n",
    "<td>9</td>\n",
    "<td>13-14</td>\n",
    "<td>Eighth Grade</td>\n",
    "</tr>\n",
    "<tr>\n",
    "<td>10</td>\n",
    "<td>14-15</td>\n",
    "<td>Ninth Grade</td>\n",
    "</tr>\n",
    "<tr>\n",
    "<td>11</td>\n",
    "<td>15-16</td>\n",
    "<td>Tenth Grade</td>\n",
    "</tr>\n",
    "<tr>\n",
    "<td>12</td>\n",
    "<td>16-17</td>\n",
    "<td>Eleventh grade</td>\n",
    "</tr>\n",
    "<tr>\n",
    "<td>13</td>\n",
    "<td>17-18</td>\n",
    "<td>Twelfth grade</td>\n",
    "</tr>\n",
    "<tr>\n",
    "<td>14</td>\n",
    "<td>18-22</td>\n",
    "<td>College</td>\n",
    "</tr>\n",
    "</tbody></table>\n",
    "\n",
    "The score itself is based on the average number of characters per word and the average number of words per sentence. The final score is rounded up to the next integer, i.e. 10.1 rounds up to 11:\n",
    "\n",
    "$\\large ARI = 4.71 \\left (\\frac{characters}{words} \\right) + 0.5 \\left (\\frac{words}{sentences} \\right)  - 21.43 $\n",
    "\n",
    "To do so you will need to:\n",
    "* Look up string methods in the official Python **3** Standard Library docs. Make sure you are looking at the official docs for Python 3, not Python 2.\n",
    "* Collect a string of text as user input\n",
    "* Get all the words as a list\n",
    "* Count the words\n",
    "* For each word count the number of alphabetic characters\n",
    "* Count the number of sentences\n",
    "* Calculate and print the score\n",
    "\n",
    "** Challenge: ** allow users to enter the file path of a text file to compute its readability score."
   ]
  },
  {
   "cell_type": "markdown",
   "metadata": {},
   "source": [
    "## Blackack Program\n",
    "We are going to play blackjack, or 21, in random pairs. After that start diagramming your classes and logic for a command line Blackjack program."
   ]
  },
  {
   "cell_type": "markdown",
   "metadata": {},
   "source": [
    "## Card, Deck, Hands\n",
    "Please start to or continue to work on your Card, Deck and Hands program."
   ]
  }
 ],
 "metadata": {
  "kernelspec": {
   "display_name": "Python 3",
   "language": "python",
   "name": "python3"
  },
  "language_info": {
   "codemirror_mode": {
    "name": "ipython",
    "version": 3
   },
   "file_extension": ".py",
   "mimetype": "text/x-python",
   "name": "python",
   "nbconvert_exporter": "python",
   "pygments_lexer": "ipython3",
   "version": "3.5.1"
  }
 },
 "nbformat": 4,
 "nbformat_minor": 0
}
