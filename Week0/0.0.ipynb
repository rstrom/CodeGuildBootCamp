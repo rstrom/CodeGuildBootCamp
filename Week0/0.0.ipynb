{
 "cells": [
  {
   "cell_type": "markdown",
   "metadata": {},
   "source": [
    "## PDX Code Guild \n",
    "# 16-Week Evening Boot Camp\n",
    "## *Spring 2016*\n",
    "\n",
    "## Day 0 Schedule:\n",
    "* Introductions\n",
    "    * Tell us a little bit about yourself in a few sentences\n",
    "    * Tell us about your goals for the boot camp in a few sentences\n",
    "* Join the class Slack\n",
    "* House Rules\n",
    "* Boot Camp Syllabus\n",
    "* Install Python 3\n",
    "    * Mac OS X:\n",
    "        1. Install homebrew following directions at http://brew.sh/\n",
    "        2. Install Python 3 with `brew install python3` in Terminal.app\n",
    "        3. If this fails download Python 3 installer from https://www.python.org/\n",
    "        4. Make sure you have python 3 set up as `python3` in your path not `python`!\n",
    "    * Windows:\n",
    "        1. Download Python 3 installer from https://www.python.org/\n",
    "        2. Make sure python is added to your environment variables\n",
    "    * Linux\n",
    "        1. Most likely you already have python 3 installed. Make sure you have the latest version, 3.5.1\n",
    "        2. To install / upgrade use `apt-get` or an installer from https://www.python.org/\n",
    "* Install the Atom editor https://atom.io/"
   ]
  },
  {
   "cell_type": "markdown",
   "metadata": {},
   "source": [
    "## Commmand Line Tour\n",
    "* ls - list files in current directory\n",
    "* cd - change directory\n",
    "    * `cd Documents` to change to the Documents directory\n",
    "    * `cd ~/` to change to your home directory\n",
    "    * `cd ../` to go back one directory\n",
    "* mkdir - make directory, e..g `mkdir NewFolder` to make a new directory with name NewFolder\n",
    "* pwd - list current directory\n",
    "* touch - create a new file, e.g. `touch new_file.txt`"
   ]
  },
  {
   "cell_type": "markdown",
   "metadata": {},
   "source": [
    "## Exercise 0: `hello.py`\n",
    "* open a new file `hello.py` in Atom\n",
    "* write a program that prints \"Hello, World!\"\n"
   ]
  },
  {
   "cell_type": "markdown",
   "metadata": {},
   "source": [
    "## Exercise 1: `dice.py`\n",
    "* Get input from the user \"How many dice would you like to roll? \"\n",
    "* Get input from the user \"How many sides should each die have? \"\n",
    "* Print the result from each die\n",
    "\n",
    "**Concepts:**\n",
    "* Variables\n",
    "* Strings\n",
    "* String concatenation\n",
    "* User input"
   ]
  },
  {
   "cell_type": "markdown",
   "metadata": {},
   "source": [
    "## Exercise 2: `madlib.py`\n",
    "* Find a madlib on Google\n",
    "* Ask user for adjectives, verbs, nouns etc.\n",
    "* Use `string.format` to format the madlib and print the result\n",
    "\n",
    "**Concepts:**\n",
    "* int vs float\n",
    "* import\n",
    "* random\n",
    "* functions\n",
    "* print vs return\n",
    "* for loops"
   ]
  }
 ],
 "metadata": {
  "kernelspec": {
   "display_name": "Python 3",
   "language": "python",
   "name": "python3"
  },
  "language_info": {
   "codemirror_mode": {
    "name": "ipython",
    "version": 3
   },
   "file_extension": ".py",
   "mimetype": "text/x-python",
   "name": "python",
   "nbconvert_exporter": "python",
   "pygments_lexer": "ipython3",
   "version": "3.5.1"
  }
 },
 "nbformat": 4,
 "nbformat_minor": 0
}
