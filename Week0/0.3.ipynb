{
 "cells": [
  {
   "cell_type": "markdown",
   "metadata": {},
   "source": [
    "# Evening 0.3\n",
    "\n",
    "**Lab:** create a phonebook to search, add, change and remove contacts\n",
    "\n",
    "**Challenge:** make your phonebook data persistent (e.g. store it in a text file)\n",
    "\n",
    "**Concept:** Gumption traps: http://robertheaton.com/2013/03/11/coding-with-gumption/"
   ]
  },
  {
   "cell_type": "markdown",
   "metadata": {},
   "source": [
    "## Review\n",
    "* Functions — the fundamental building blocks of programming\n",
    "* Dictionaries — an associative data structure\n",
    "* Tuples — an ordered, immutable sequence"
   ]
  },
  {
   "cell_type": "code",
   "execution_count": 7,
   "metadata": {
    "collapsed": false
   },
   "outputs": [
    {
     "data": {
      "text/plain": [
       "['A', 'a', 'b', 'd']"
      ]
     },
     "execution_count": 7,
     "metadata": {},
     "output_type": "execute_result"
    }
   ],
   "source": [
    "sorted(['a', 'A', 'd', 'b'])"
   ]
  },
  {
   "cell_type": "code",
   "execution_count": 14,
   "metadata": {
    "collapsed": false
   },
   "outputs": [
    {
     "name": "stdout",
     "output_type": "stream",
     "text": [
      "Key error\n"
     ]
    }
   ],
   "source": [
    "key_vals = {\n",
    "    'key1': 1,\n",
    "    'key2': 2\n",
    "}\n",
    "\n",
    "try:\n",
    "    a = key_vals['key3']\n",
    "    b = ('a','b') > ('A')\n",
    "except KeyError:\n",
    "    print('Key error')\n",
    "except TypeError:\n",
    "    print('Error')"
   ]
  },
  {
   "cell_type": "code",
   "execution_count": 27,
   "metadata": {
    "collapsed": false
   },
   "outputs": [
    {
     "name": "stdout",
     "output_type": "stream",
     "text": [
      "bar\n",
      "None\n",
      "barbar\n"
     ]
    }
   ],
   "source": [
    "foo = 'bar'\n",
    "\n",
    "def val_of_foo():\n",
    "    foo = 'barbar'\n",
    "    \n",
    "print(foo)\n",
    "print(val_of_foo())\n",
    "print(foo)"
   ]
  },
  {
   "cell_type": "markdown",
   "metadata": {},
   "source": [
    "## Phonebook\n",
    "Download the `phonebook.py` handout from Slack. In the terminal use `mkdir` and `git init` to start a new project directory for your code. Use `cp` to copy the `phonebook.py` into the project directory.\n",
    "In `phonebook.py`:\n",
    "* main function asks whether the user would like to search, add, change, remove contacts or exit the program\n",
    "* `phone_book` dictionary stores name and phone numbers\n",
    "* search function should lookup a phone number by name\n",
    "* add function should add a new name and number to the `phone_book` dictionary\n",
    "* change function should be able to change the phone number for a name\n",
    "* remove function should confirm and remove an entry by name\n",
    "\n",
    "Concepts:\n",
    "* Try Catch blocks"
   ]
  },
  {
   "cell_type": "markdown",
   "metadata": {},
   "source": [
    "## Weekend assignment\n",
    "* Finish and push your phonebook code to your Github profile\n",
    "* Code the `dungeon.py` game referenced in previous notebooks"
   ]
  }
 ],
 "metadata": {
  "kernelspec": {
   "display_name": "Python 3",
   "language": "python",
   "name": "python3"
  },
  "language_info": {
   "codemirror_mode": {
    "name": "ipython",
    "version": 3
   },
   "file_extension": ".py",
   "mimetype": "text/x-python",
   "name": "python",
   "nbconvert_exporter": "python",
   "pygments_lexer": "ipython3",
   "version": "3.5.1"
  }
 },
 "nbformat": 4,
 "nbformat_minor": 0
}
