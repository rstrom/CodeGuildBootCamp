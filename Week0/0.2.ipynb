{
 "cells": [
  {
   "cell_type": "markdown",
   "metadata": {},
   "source": [
    "# Evening 2\n",
    "**Challenge of the day:** Set up a gh-pages website for your github profile that says \"Hello, World!\""
   ]
  },
  {
   "cell_type": "markdown",
   "metadata": {},
   "source": [
    "### Setup\n",
    "Update your local CodeGuildBootCamp repo with today's notebook\n",
    "* in the terminal `cd` to the `CodeGuildBootCamp` directory\n",
    "* stash any of your changes with `git stash`\n",
    "* run `git fetch origin` to download the changes to the remote repository\n",
    "* run `git merge origin/clean` to merge the changes into your local repositroy\n",
    "* let us know if you get a merge conflict or any other trouble"
   ]
  },
  {
   "cell_type": "markdown",
   "metadata": {},
   "source": [
    "### Git branching basics\n",
    "Say you need to fix a bug in your code but it's not ready for prime time. A git \"branch\" allows you to make a side copy of your code where you can work on the bug and later on integrate it back into your \"master\" branch. For a deep dive please reference [Git Branching - Basic Branching and Merging](https://git-scm.com/book/en/v2/Git-Branching-Basic-Branching-and-Merging). To touch on the basics:\n",
    "* create a new directory named \"branching\" and empy repo using `mkdir branching` and `git init`\n",
    "* add a couple files `foo` and `bar` (hint use `touch`)\n",
    "* in foo write \"hello\" using `echo \"hello\" > foo`\n",
    "* stage (`git add .`) and commit your changes\n",
    "* make a new branch called adele using `git branch adele`\n",
    "* list your available git branches using `git branch`\n",
    "* switch into the adele branch with the command `git checkout adele`\n",
    "* change the `foo` file to say \"hello from the other side\"\n",
    "* stage and commit your changes\n",
    "* checkout the master and branch and run `cat foo` to confirm that `foo` still just says \"hello\" in the master branch\n",
    "* checkout the adele branch and confirm that foo still reads \"hello from the other side\"\n",
    "* delete all your handiwork by running the rm command recursively through your directory: `rm -r ../branching`\n",
    "* be very careful running `rm -r` as you could end up deleting all your files..."
   ]
  },
  {
   "cell_type": "markdown",
   "metadata": {},
   "source": [
    "## Functions"
   ]
  },
  {
   "cell_type": "markdown",
   "metadata": {},
   "source": [
    "1) Write a function to calculate the square of a number. In a separate for loop print all the squares up to 100."
   ]
  },
  {
   "cell_type": "markdown",
   "metadata": {},
   "source": [
    "2) Write a function that returns the difference of the square of the number and the number below it, i.e. (n^2 - (n-1)^2), e.g. for n = 7, 7^2 - 6^2. Print all the square differences up to 100."
   ]
  },
  {
   "cell_type": "markdown",
   "metadata": {},
   "source": [
    "3) Write a function `indexOf(value, list)` that finds an element in a list and returns its index. E.g. `indexOf(3, [1, 2, 3])` should return `2`."
   ]
  },
  {
   "cell_type": "code",
   "execution_count": 39,
   "metadata": {
    "collapsed": false
   },
   "outputs": [
    {
     "name": "stdout",
     "output_type": "stream",
     "text": [
      "0 1\n",
      "1 2\n",
      "2 4\n",
      "3 6\n"
     ]
    }
   ],
   "source": [
    "for tup in enumerate([1, 2, 4, 6]):\n",
    "    print(tup[0], tup[1])"
   ]
  },
  {
   "cell_type": "code",
   "execution_count": 41,
   "metadata": {
    "collapsed": false
   },
   "outputs": [
    {
     "data": {
      "text/plain": [
       "1"
      ]
     },
     "execution_count": 41,
     "metadata": {},
     "output_type": "execute_result"
    }
   ],
   "source": []
  },
  {
   "cell_type": "code",
   "execution_count": 42,
   "metadata": {
    "collapsed": false
   },
   "outputs": [
    {
     "data": {
      "text/plain": [
       "2"
      ]
     },
     "execution_count": 42,
     "metadata": {},
     "output_type": "execute_result"
    }
   ],
   "source": [
    "def indexOf(val, input_list):\n",
    "    for index, element in enumerate(input_list):\n",
    "        if element == val:\n",
    "            return index\n",
    "    return -1\n",
    "\n",
    "indexOf(9, [1, 2, 3])\n",
    "[1, 2, 4].index(4)"
   ]
  },
  {
   "cell_type": "markdown",
   "metadata": {},
   "source": [
    "# Boolgame!\n",
    "Download `boolgame.py` from our Slack channel.\n",
    "Quick overview of boolean operators in Python:\n",
    "* `x or y` — if x is false, then y, else x\n",
    "* `x and y` — if x is false, then x, else y\n",
    "* `not x` — if x is false, then True, else False"
   ]
  },
  {
   "cell_type": "markdown",
   "metadata": {},
   "source": [
    "## Dictionaries"
   ]
  },
  {
   "cell_type": "code",
   "execution_count": 64,
   "metadata": {
    "collapsed": true
   },
   "outputs": [],
   "source": [
    "our_favorite_books = {\n",
    "    \"Andrew\": \"Harry Potter and the Sorcerer's Stone\",\n",
    "    \"Darrin\": \"A People's History of the United States\",\n",
    "    \"Jay\": \"Diary of a Wimpy Kid\",\n",
    "    \"Hannah\": \"Mulla Nasrudin?\",\n",
    "    \"Alison\": \"The Moon is a Harsh Mistress?\",\n",
    "    \"Chris\": \"The Stand\",\n",
    "    \"John\": \"The Maze Runner\",\n",
    "    \"Robbie\": \"Ubik\",\n",
    "    \"Roy\": \"Mysterious Island\"\n",
    "}\n",
    "\n",
    "title_author = {\n",
    "    \"A People's History of the United States\": \"Howard Zinn\",\n",
    "    \"Harry Potter and the Sorcerer's Stone\": \"J.K. Rowling\",\n",
    "    \"Diary of a Wimpy Kid\": \"Jeff Kinney\",\n",
    "    \"Mulla Nasrudin\": \"Idries Shah\",\n",
    "    \"The Moon is a Harsh Mistress\": \"Robert A. Heinlein\",\n",
    "    \"The Stand\": \"Stephen King\",\n",
    "    \"The Maze Runner\": \"James Dashner\",\n",
    "    \"Ubik\": \"Philip K. Dick\",\n",
    "    \"Mysterious Island\": \"Jules Verne\"\n",
    "}"
   ]
  },
  {
   "cell_type": "code",
   "execution_count": 53,
   "metadata": {
    "collapsed": false
   },
   "outputs": [
    {
     "name": "stdout",
     "output_type": "stream",
     "text": [
      "Philip K. Dick\n",
      "Idries Shah\n",
      "Jeff Kinney\n",
      "James Dashner\n",
      "J.K. Rowling\n",
      "Howard Zinn\n",
      "Jules Verne\n",
      "Robert A. Heinlein\n",
      "Stephen King\n"
     ]
    }
   ],
   "source": [
    "for title in title_author:\n",
    "    print(title_author[title])"
   ]
  },
  {
   "cell_type": "markdown",
   "metadata": {},
   "source": [
    "1) Print out everyone's favorite book by title, e.g. \"Andrew's favorite book is Harry Potter..\""
   ]
  },
  {
   "cell_type": "code",
   "execution_count": 67,
   "metadata": {
    "collapsed": false
   },
   "outputs": [
    {
     "data": {
      "text/plain": [
       "\"Bob's favorite book is the Bible\""
      ]
     },
     "execution_count": 67,
     "metadata": {},
     "output_type": "execute_result"
    }
   ],
   "source": [
    "\"{person}'s favorite book is {book}\".format(person=\"Bob\", book=\"the Bible\")"
   ]
  },
  {
   "cell_type": "code",
   "execution_count": 75,
   "metadata": {
    "collapsed": false
   },
   "outputs": [
    {
     "name": "stdout",
     "output_type": "stream",
     "text": [
      "spices\n",
      "The definition for spices is an aromatic or pungent vegetable substance used to flavor food\n",
      "umami\n",
      "The definition for umami is a category of taste in food corresponding to the flavor of glutamates\n"
     ]
    }
   ],
   "source": [
    "literal_dict = {\n",
    "    \"spices\": \"an aromatic or pungent vegetable substance used to flavor food\",\n",
    "    \"umami\": \"a category of taste in food corresponding to the flavor of glutamates\"\n",
    "}\n",
    "\n",
    "word = \"spices\"\n",
    "literal_dict[word]\n",
    "\n",
    "for word in literal_dict:\n",
    "    print(word)\n",
    "    print(\"The definition for {word} is {d}\".format(word=word, d=literal_dict[word]))"
   ]
  },
  {
   "cell_type": "markdown",
   "metadata": {},
   "source": [
    "2) Print out everyone's favorite book by title and author, e.g. \"Andrew's favorite book is Harry Potter... by J.K. Rowling\". If the author is unknown, print \"by unknown\"."
   ]
  },
  {
   "cell_type": "markdown",
   "metadata": {},
   "source": [
    "3) Write a function that *returns* one book written by an author as a formatted string. E.g. a_book_by(\"Stephen King\") returns the formatted string \"Stephen King wrote The Stand\". If there is no book found for an author, print \"I don't if {author} printed any books\". For every author in `title_author` print the book they have written."
   ]
  },
  {
   "cell_type": "markdown",
   "metadata": {},
   "source": [
    "## Exercise: `dungeon.py`\n",
    "*New concept:* Docstrings\n",
    "\n",
    "Create a maze game with connected rooms using the `dungeon.py` handout as a template. Each room is a function with a description and a doors dictionary that connects it to other rooms. For example:\n",
    "\n",
    "```python\n",
    "def room0():\n",
    "    # description\n",
    "    description = \"This room is very small. You barely fit here. You're like Alice in that crazy-tiny-room thing.\"\n",
    "    # doors\n",
    "    # where those doors Go\n",
    "    doors = { \"east\": room2, \"west\": room1 }\n",
    "\n",
    "    return process_user_movement(description, doors)\n",
    "```\n",
    "\n",
    "Write the `process_user_movement` that moves a user from room to room until they have found the exit:\n",
    "\n",
    "```python\n",
    "def process_user_movement(description, doors):\n",
    "    \"\"\"\n",
    "       This is the process_user_movement function that will\n",
    "       handle a user's input.\n",
    "\n",
    "    Args:\n",
    "        doors: A description of the current room\n",
    "        description: dictionary with door:location sets\n",
    "    \"\"\"\n",
    "    # Print the description of the current room\n",
    "\n",
    "    # Print the available doors\n",
    "\n",
    "    # Prompt the user for what door they want to enter\n",
    "\n",
    "        # Valid response: Go to the correct location\n",
    "        \n",
    "        # Invalid response: Ask them again\n",
    "```"
   ]
  }
 ],
 "metadata": {
  "kernelspec": {
   "display_name": "Python 3",
   "language": "python",
   "name": "python3"
  },
  "language_info": {
   "codemirror_mode": {
    "name": "ipython",
    "version": 3
   },
   "file_extension": ".py",
   "mimetype": "text/x-python",
   "name": "python",
   "nbconvert_exporter": "python",
   "pygments_lexer": "ipython3",
   "version": "3.5.1"
  }
 },
 "nbformat": 4,
 "nbformat_minor": 0
}