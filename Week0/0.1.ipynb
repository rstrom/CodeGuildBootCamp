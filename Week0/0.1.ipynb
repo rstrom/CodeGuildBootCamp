{
 "cells": [
  {
   "cell_type": "markdown",
   "metadata": {},
   "source": [
    "# Evening 1\n",
    "\n",
    "## Today's challenge:\n",
    "* Write a function that checks whether a number is prime\n",
    "* Write a program that prints every prime number up to a given input number\n",
    "\n",
    "**Quotation for the day:** \"Wisdom is the fruit of action\" ~ Bhagavad Gita"
   ]
  },
  {
   "cell_type": "markdown",
   "metadata": {},
   "source": [
    "## Setup\n",
    "* Install jupypter:\n",
    "    * run `pip3 install jupyter`\n",
    "    * download this notebook `0.1.ipynb` from Slack\n",
    "    * in the Terminal use `mkdir` command to create a new directory for today's class\n",
    "    * use the `cp` command to copy `0.1.ipynb` into the new directory (`cp ~/Downloads/0.1.ipynb ~/Documents/Day1`)\n",
    "    * run `jupyter notebook` in the new directory to run and open the notebook in your default browser"
   ]
  },
  {
   "cell_type": "markdown",
   "metadata": {},
   "source": [
    "## A taste of git\n",
    "* Make sure updated git is install by running `git --version`\n",
    "* On Mac you can upgrade git using `brew upgrade git`\n",
    "* To create a git repo:\n",
    "    * Initialize a local git repository in the current directory using `git init`\n",
    "    * Create some empty files using `touch`\n",
    "    * Create a `.gitignore` file to ignore any files you don't want in the repo. \n",
    "        * E.g. `**/secret` in your gitignore ingores all files in every directory named `secret`\n",
    "        * E.g. `**/*.py` in your gitignore ingores all files with extension `.py`\n",
    "    * Add all the files in your directory to your git index using `git add .`\n",
    "    * Commit these changes to your repository using `git commit -m \"explain here what you changed\"`\n",
    "* To upload or \"push\" your local repo to an online Github repo\n",
    "    * create a new repo with your account at github.com\n",
    "    * find the url for you repo and run `git remote add origin *your url*`\n",
    "    * check that it worked with `git remote -v`\n",
    "    * push your local repo with `git push -u origin master`"
   ]
  },
  {
   "cell_type": "markdown",
   "metadata": {},
   "source": [
    "## Review from yesterday\n",
    "* Python types:\n",
    "    * strings\n",
    "    * lists\n",
    "    * bools\n",
    "    * ints\n",
    "    * floats\n",
    "   \n",
    "* String formatting\n",
    "* Loops\n",
    "* Conditions"
   ]
  },
  {
   "cell_type": "markdown",
   "metadata": {},
   "source": [
    "## Conditions\n",
    "* boolean expressions\n",
    "* conditional statements"
   ]
  },
  {
   "cell_type": "markdown",
   "metadata": {},
   "source": [
    "## Control flow exercises"
   ]
  },
  {
   "cell_type": "markdown",
   "metadata": {},
   "source": [
    "1) Check whether an input weight for a piece luggage is too much (greather than 50 lbs)"
   ]
  },
  {
   "cell_type": "markdown",
   "metadata": {},
   "source": [
    "2) Print the first 100 numbers in the 7 times table (7, 14 ... 700)"
   ]
  },
  {
   "cell_type": "markdown",
   "metadata": {},
   "source": [
    "3) Print all the numbers below 100 that are divisible by 7 using the \"modulo\" operator `%`"
   ]
  },
  {
   "cell_type": "markdown",
   "metadata": {},
   "source": [
    "4) Print the letter grade for a given (user input) score. E.g. print \"Your grade is an A\" for a score > 0.9 "
   ]
  },
  {
   "cell_type": "markdown",
   "metadata": {},
   "source": [
    "## Functions"
   ]
  },
  {
   "cell_type": "markdown",
   "metadata": {},
   "source": [
    "1) Define a function to calculate the tip for a bill. Print the result."
   ]
  },
  {
   "cell_type": "markdown",
   "metadata": {},
   "source": [
    "2) Write a function to calculate the square of a number. In a separate for loop print all the squares up to 100."
   ]
  },
  {
   "cell_type": "markdown",
   "metadata": {},
   "source": [
    "3) Write a function that returns the difference of the square of the number and the number below it, i.e. (n^2 - (n-1)^2), e.g. for n = 7, 7^2 - 6^2. Print all the square differences up to 100."
   ]
  },
  {
   "cell_type": "markdown",
   "metadata": {},
   "source": [
    "## Dictionaries"
   ]
  },
  {
   "cell_type": "code",
   "execution_count": 1,
   "metadata": {
    "collapsed": false
   },
   "outputs": [],
   "source": [
    "our_favorite_books = {\n",
    "    \"Andrew\": \"Harry Potter and the Sorcerer's Stone\",\n",
    "    \"Darrin\": \"A People's History of the United States\",\n",
    "    \"Jay\": \"Diary of a Wimpy Kid\",\n",
    "    \"Hannah\": \"Mulla Nasrudin?\",\n",
    "    \"Alison\": \"The Moon is a Harsh Mistress?\",\n",
    "    \"Chris\": \"The Stand\",\n",
    "    \"John\": \"The Maze Runner\",\n",
    "    \"Robbie\": \"Ubik\",\n",
    "    \"Roy\": \"Mysterious Island\"\n",
    "}\n",
    "\n",
    "title_author = {\n",
    "    \"A People's History of the United States\": \"Howard Zinn\",\n",
    "    \"Harry Potter and the Sorcerer's Stone\": \"J.K. Rowling\",\n",
    "    \"Diary of a Wimpy Kid\": \"Jeff Kinney\",\n",
    "    \"Mulla Nasrudin\": \"Idries Shah\",\n",
    "    \"The Moon is a Harsh Mistress\": \"Robert A. Heinlein\",\n",
    "    \"The Stand\": \"Stephen King\",\n",
    "    \"The Maze Runner\": \"James Dashner\",\n",
    "    \"Ubik\": \"Philip K. Dick\",\n",
    "    \"Mysterious Island\": \"Jules Verne\"\n",
    "}"
   ]
  },
  {
   "cell_type": "markdown",
   "metadata": {},
   "source": [
    "1) Print out everyone's favorite book by title, e.g. \"Andrew's favorite book is Harry Potter..\""
   ]
  },
  {
   "cell_type": "markdown",
   "metadata": {},
   "source": [
    "2) Print out everyone's favorite book by title and author, e.g. \"Andrew's favorite book is Harry Potter... by J.K. Rowling\". If the author is unknown, print \"by unknown\"."
   ]
  },
  {
   "cell_type": "markdown",
   "metadata": {},
   "source": [
    "3) Write a function that *returns* one book written by an author as a formatted string. E.g. a_book_by(\"Stephen King\") returns the formatted string \"Stephen King wrote The Stand\". If there is no book found for an author, print \"I don't if {author} printed any books\". For every author in `title_author` print the book they have written."
   ]
  },
  {
   "cell_type": "markdown",
   "metadata": {},
   "source": [
    "## Exercise: `dungeon.py`\n",
    "*New concept:* Docstrings\n",
    "\n",
    "Create a maze game with connected rooms using the `dungeon.py` handout as a template. Each room is a function with a description and a doors dictionary that connects it to other rooms. For example:\n",
    "\n",
    "```python\n",
    "def room0():\n",
    "    # description\n",
    "    description = \"This room is very small. You barely fit here. You're like Alice in that crazy-tiny-room thing.\"\n",
    "    # doors\n",
    "    # where those doors Go\n",
    "    doors = { \"east\": room2, \"west\": room1 }\n",
    "\n",
    "    return process_user_movement(description, doors)\n",
    "```\n",
    "\n",
    "Write the `process_user_movement` that moves a user from room to room until they have found the exit:\n",
    "\n",
    "```python\n",
    "def process_user_movement(description, doors):\n",
    "    \"\"\"\n",
    "       This is the process_user_movement function that will\n",
    "       handle a user's input.\n",
    "\n",
    "    Args:\n",
    "        doors: A description of the current room\n",
    "        description: dictionary with door:location sets\n",
    "    \"\"\"\n",
    "    # Print the description of the current room\n",
    "\n",
    "    # Print the available doors\n",
    "\n",
    "    # Prompt the user for what door they want to enter\n",
    "\n",
    "        # Valid response: Go to the correct location\n",
    "        \n",
    "        # Invalid response: Ask them again\n",
    "```"
   ]
  },
  {
   "cell_type": "markdown",
   "metadata": {},
   "source": [
    "# Evaluation form:\n",
    "How is the class going so far? Please fill out this short evaluation form before you leave tonight: http://goo.gl/forms/zqKa1DBDtP"
   ]
  }
 ],
 "metadata": {
  "kernelspec": {
   "display_name": "Python 3",
   "language": "python",
   "name": "python3"
  },
  "language_info": {
   "codemirror_mode": {
    "name": "ipython",
    "version": 3
   },
   "file_extension": ".py",
   "mimetype": "text/x-python",
   "name": "python",
   "nbconvert_exporter": "python",
   "pygments_lexer": "ipython3",
   "version": "3.5.1"
  }
 },
 "nbformat": 4,
 "nbformat_minor": 0
}
